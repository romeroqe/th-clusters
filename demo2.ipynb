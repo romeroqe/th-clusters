{
 "cells": [
  {
   "cell_type": "markdown",
   "metadata": {},
   "source": [
    "#### demo2: Implementation of Euclidean distance to classify new profiles"
   ]
  },
  {
   "cell_type": "code",
   "execution_count": 1,
   "metadata": {},
   "outputs": [],
   "source": [
    "import math, operator, gsw\n",
    "import numpy as np\n",
    "import pandas as pd\n",
    "from netCDF4 import Dataset\n",
    "from scipy.interpolate import interp1d\n",
    "from matplotlib import pyplot as plt\n",
    "\n",
    "###############################################################\n",
    "# Calculate Euclidean distance \n",
    "###############################################################\n",
    "def distance(X, y, N):\n",
    "\tdistance = 0\n",
    "\tfor x in range(N):\n",
    "\t\t# Euclidean distance\n",
    "\t\tdistance += (X[x] - y[x])**2\n",
    "\treturn math.sqrt(distance)\n",
    "\n",
    "###############################################################\n",
    "# Get nearest centroid \n",
    "###############################################################\n",
    "def getNearestCentroid(Xi, centroids):\n",
    "\tN = len(Xi)\n",
    "\tlabels = list(range(len(centroids)))\n",
    "\tdistances = []\n",
    "\tfor key in labels:\n",
    "\t\tdistances.append((key, distance(Xi, centroids[key], N)))\n",
    "\tdistances.sort(key=operator.itemgetter(1))\n",
    "\treturn distances[0][0]\n",
    "\n",
    "###############################################################\n",
    "# Iterate profiles\n",
    "###############################################################\n",
    "def NearestCentroid(X, centroids):\n",
    "\t#############################################################\n",
    "\t# parameters:\n",
    "\t# \tX: 2-D list, shape: [num_profiles, 1451 (depth)]\n",
    "\t# \tcentroids: 2-D list, shape: [num_clusters, 1451 (depth)]\n",
    "\n",
    "\tpredictions = []\n",
    "\tfor i in range(len(X)):\n",
    "\t\tpredictions.append(getNearestCentroid(X[i], centroids))\n",
    "\treturn predictions\n",
    "\n",
    "###############################################################\n",
    "# Get interpolated data from Argo profiles\n",
    "###############################################################\n",
    "def getProfileData(file):\n",
    "\t# parameters:\n",
    "\t# \tfile: String: full path of the profile file\n",
    " \n",
    "\tnc = Dataset(file)\n",
    "\tlatitude = nc.variables['LATITUDE'][0]\n",
    "\tlongitude = nc.variables['LONGITUDE'][0]\n",
    "\tdf = pd.DataFrame({\n",
    "\t\t'pres': nc.variables['PRES_ADJUSTED'][0], \n",
    "\t\t'psal': nc.variables['PSAL_ADJUSTED'][0], \n",
    "\t\t'temp': nc.variables['TEMP_ADJUSTED'][0]\n",
    "\t})\n",
    "\tdf = df.dropna()\n",
    "\tnc.close()\n",
    "\t\n",
    "\tless = df[df.pres <= 10].pres\n",
    "\tmore = df[df.pres >= 1500].pres\n",
    "\tif (less.shape[0] == 0) | (more.shape[0] == 0):\n",
    "\t\treturn pd.DataFrame([])\n",
    "\t\n",
    "\t# Here you can add the missing filters described in the manuscript or filters proposed by you.\n",
    " \t# Remember to return an empty Pandas dataframe if the profile does not pass any filter.\n",
    "\n",
    "\tdf = df[(df.pres >= less.values[-1]) & (df.pres <= more.values[0])].reset_index(drop=True)\n",
    "\n",
    "\tdf['asal'] = gsw.SA_from_SP(df.psal.values, df.pres.values, np.repeat(longitude, df.shape[0]), np.repeat(latitude, df.shape[0]))\n",
    "\tdf['ctemp'] = gsw.CT_from_t(df.asal.values, df.temp.values, df.pres.values)\n",
    "\n",
    "\tpres = np.arange(10, 1501, 1)\n",
    "\tt = interp1d(df.pres, df.ctemp)\n",
    "\ts = interp1d(df.pres, df.asal)\n",
    "\tinterp_df = pd.DataFrame({\n",
    "\t\t'pres': pres, \n",
    "\t\t'asal': s(pres), \n",
    "\t\t'ctemp': t(pres)\n",
    "\t})\n",
    "\treturn interp_df"
   ]
  },
  {
   "cell_type": "markdown",
   "metadata": {},
   "source": [
    "To classify new profiles within the temperature and salinity clusters, the Euclidean distance is implemented.\n",
    "\n",
    "Profiles with measurements from 10 to 1500 m are first selected and linearly interpolated at each meter of depth, as mentioned in the manuscript. For this demonstration, five DMQC random profiles were selected from the Argo snapshot used in the manuscript (check `README.md` file). To simplify the demo procedures, on this occasion we do not perform exhaustive filtering with these five profiles."
   ]
  },
  {
   "cell_type": "code",
   "execution_count": 2,
   "metadata": {},
   "outputs": [
    {
     "name": "stdout",
     "output_type": "stream",
     "text": [
      "4 interpolated conservative temperature profiles\n",
      "4 interpolated absolute salinity profiles\n"
     ]
    }
   ],
   "source": [
    "profile_files = [\"D5904999_148.nc\", \"D3901116_098.nc\", \"D5904355_088.nc\", \"D2902612_192.nc\", \"D3900386_063.nc\"]\n",
    "\n",
    "files = []\n",
    "pres = np.arange(10, 1501, 1).tolist()\n",
    "ct_profiles = pd.DataFrame({}, columns=pres)\n",
    "as_profiles = pd.DataFrame({}, columns=pres)\n",
    "\n",
    "for file in profile_files:\n",
    "    df = getProfileData(f\"argo-profiles/{file}\")\n",
    "    # Adding datasets that did pass the filters\n",
    "    if df.shape[0] > 0:\n",
    "        files.append(file)\n",
    "        ct_profiles.loc[len(ct_profiles.index)] = df.ctemp.values\n",
    "        as_profiles.loc[len(as_profiles.index)] = df.asal.values\n",
    "\n",
    "ct_profiles[\"file\"] = files\n",
    "as_profiles[\"file\"] = files\n",
    "print(f\"{ct_profiles.shape[0]} interpolated conservative temperature profiles\")\n",
    "print(f\"{as_profiles.shape[0]} interpolated absolute salinity profiles\")"
   ]
  },
  {
   "cell_type": "markdown",
   "metadata": {},
   "source": [
    "Now load the centroid files and use Euclidean distance to classify your profiles."
   ]
  },
  {
   "cell_type": "code",
   "execution_count": 3,
   "metadata": {},
   "outputs": [
    {
     "data": {
      "text/html": [
       "<div>\n",
       "<style scoped>\n",
       "    .dataframe tbody tr th:only-of-type {\n",
       "        vertical-align: middle;\n",
       "    }\n",
       "\n",
       "    .dataframe tbody tr th {\n",
       "        vertical-align: top;\n",
       "    }\n",
       "\n",
       "    .dataframe thead th {\n",
       "        text-align: right;\n",
       "    }\n",
       "</style>\n",
       "<table border=\"1\" class=\"dataframe\">\n",
       "  <thead>\n",
       "    <tr style=\"text-align: right;\">\n",
       "      <th></th>\n",
       "      <th>file</th>\n",
       "      <th>5_t</th>\n",
       "      <th>5_s</th>\n",
       "      <th>5_th</th>\n",
       "    </tr>\n",
       "  </thead>\n",
       "  <tbody>\n",
       "    <tr>\n",
       "      <th>0</th>\n",
       "      <td>D5904999_148.nc</td>\n",
       "      <td>4</td>\n",
       "      <td>2</td>\n",
       "      <td>4_2</td>\n",
       "    </tr>\n",
       "    <tr>\n",
       "      <th>1</th>\n",
       "      <td>D3901116_098.nc</td>\n",
       "      <td>0</td>\n",
       "      <td>3</td>\n",
       "      <td>0_3</td>\n",
       "    </tr>\n",
       "    <tr>\n",
       "      <th>2</th>\n",
       "      <td>D5904355_088.nc</td>\n",
       "      <td>1</td>\n",
       "      <td>3</td>\n",
       "      <td>1_3</td>\n",
       "    </tr>\n",
       "    <tr>\n",
       "      <th>3</th>\n",
       "      <td>D2902612_192.nc</td>\n",
       "      <td>1</td>\n",
       "      <td>0</td>\n",
       "      <td>1_0</td>\n",
       "    </tr>\n",
       "  </tbody>\n",
       "</table>\n",
       "</div>"
      ],
      "text/plain": [
       "              file  5_t  5_s 5_th\n",
       "0  D5904999_148.nc    4    2  4_2\n",
       "1  D3901116_098.nc    0    3  0_3\n",
       "2  D5904355_088.nc    1    3  1_3\n",
       "3  D2902612_192.nc    1    0  1_0"
      ]
     },
     "execution_count": 3,
     "metadata": {},
     "output_type": "execute_result"
    }
   ],
   "source": [
    "clusters = 5 # Number of centroids\n",
    "df_ct = pd.read_csv(f'temperature-centroids/{str(clusters).zfill(2)}_centroids.csv') # For temperature centroids\n",
    "df_as = pd.read_csv(f'salinity-centroids/{str(clusters).zfill(2)}_centroids.csv') # For salinity centroids\n",
    "\n",
    "df = pd.DataFrame({\n",
    "    \"file\": files,\n",
    "    f\"{clusters}_t\": NearestCentroid(ct_profiles[pres].values, df_ct.T.values[1:]),\n",
    "    f\"{clusters}_s\": NearestCentroid(as_profiles[pres].values, df_as.T.values[1:]),\n",
    "})\n",
    "df[f\"{clusters}_th\"] = df[f\"{clusters}_t\"].astype(str) + \"_\" + df[f\"{clusters}_s\"].astype(str)\n",
    "df"
   ]
  },
  {
   "cell_type": "markdown",
   "metadata": {},
   "source": [
    "Now you can see your classified profiles on a map (see `demo1.ipynb`) or plot them on a T-S diagram."
   ]
  },
  {
   "cell_type": "code",
   "execution_count": 4,
   "metadata": {},
   "outputs": [
    {
     "data": {
      "text/plain": [
       "<matplotlib.legend.Legend at 0x2924d079e20>"
      ]
     },
     "execution_count": 4,
     "metadata": {},
     "output_type": "execute_result"
    },
    {
     "data": {
      "image/png": "[encoded data removed]",
      "text/plain": [
       "<Figure size 480x480 with 1 Axes>"
      ]
     },
     "metadata": {},
     "output_type": "display_data"
    }
   ],
   "source": [
    "fig = plt.figure(figsize=(4.8, 4.8))\n",
    "ax = fig.add_subplot(111)\n",
    "\n",
    "for k in range(df.shape[0]):\n",
    "    cte = ct_profiles[ct_profiles.file == df.file[k]]\n",
    "    asa = as_profiles[as_profiles.file == df.file[k]]\n",
    "    ax.scatter(asa[pres].values, cte[pres].values, label=df[f\"{clusters}_th\"][k])\n",
    "\n",
    "ax.set_ylabel(r\"Conservative temperature ($^\\circ$C)\")\n",
    "ax.set_xlabel(r\"Absoulute salinity (g kg$^{-1}$)\")\n",
    "ax.legend()"
   ]
  }
 ],
 "metadata": {
  "kernelspec": {
   "display_name": "base",
   "language": "python",
   "name": "python3"
  },
  "language_info": {
   "codemirror_mode": {
    "name": "ipython",
    "version": 3
   },
   "file_extension": ".py",
   "mimetype": "text/x-python",
   "name": "python",
   "nbconvert_exporter": "python",
   "pygments_lexer": "ipython3",
   "version": "3.9.16"
  }
 },
 "nbformat": 4,
 "nbformat_minor": 2
}
