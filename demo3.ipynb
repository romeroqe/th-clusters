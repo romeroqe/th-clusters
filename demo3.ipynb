{
 "cells": [
  {
   "cell_type": "markdown",
   "metadata": {},
   "source": [
    "#### demo3: Using the K-means algorithm to cluster profiles"
   ]
  },
  {
   "cell_type": "code",
   "execution_count": 7,
   "metadata": {},
   "outputs": [],
   "source": [
    "import gsw\n",
    "import numpy as np\n",
    "import pandas as pd\n",
    "from netCDF4 import Dataset\n",
    "from scipy.interpolate import interp1d\n",
    "from sklearn.cluster import KMeans\n",
    "from matplotlib import cm, pyplot as plt\n",
    "\n",
    "###############################################################\n",
    "# Get interpolated data from Argo profiles\n",
    "###############################################################\n",
    "def getProfileData(file):\n",
    "\t# parameters:\n",
    "\t# \tfile: String: full path of the profile file\n",
    " \n",
    "\tnc = Dataset(file)\n",
    "\tlatitude = nc.variables['LATITUDE'][0]\n",
    "\tlongitude = nc.variables['LONGITUDE'][0]\n",
    "\tdf = pd.DataFrame({\n",
    "\t\t'pres': nc.variables['PRES_ADJUSTED'][0], \n",
    "\t\t'psal': nc.variables['PSAL_ADJUSTED'][0], \n",
    "\t\t'temp': nc.variables['TEMP_ADJUSTED'][0]\n",
    "\t})\n",
    "\tdf = df.dropna()\n",
    "\tnc.close()\n",
    "\t\n",
    "\tless = df[df.pres <= 10].pres\n",
    "\tmore = df[df.pres >= 1500].pres\n",
    "\tif (less.shape[0] == 0) | (more.shape[0] == 0):\n",
    "\t\treturn pd.DataFrame([])\n",
    "\t\n",
    "\t# Here you can add the missing filters described in the manuscript or filters proposed by you.\n",
    " \t# Remember to return an empty Pandas dataframe if the profile does not pass any filter.\n",
    "\n",
    "\tdf = df[(df.pres >= less.values[-1]) & (df.pres <= more.values[0])].reset_index(drop=True)\n",
    "\n",
    "\tdf['asal'] = gsw.SA_from_SP(df.psal.values, df.pres.values, np.repeat(longitude, df.shape[0]), np.repeat(latitude, df.shape[0]))\n",
    "\tdf['ctemp'] = gsw.CT_from_t(df.asal.values, df.temp.values, df.pres.values)\n",
    "\n",
    "\tpres = np.arange(10, 1501, 1)\n",
    "\tt = interp1d(df.pres, df.ctemp)\n",
    "\ts = interp1d(df.pres, df.asal)\n",
    "\tinterp_df = pd.DataFrame({\n",
    "\t\t'pres': pres, \n",
    "\t\t'asal': s(pres), \n",
    "\t\t'ctemp': t(pres)\n",
    "\t})\n",
    "\treturn interp_df"
   ]
  },
  {
   "cell_type": "markdown",
   "metadata": {},
   "source": [
    "Below is the simplified procedure to obtain k centroids from temperature profiles. These can be modified using salinity profiles or any other parameter.\n",
    "\n",
    "First, profiles with measurements from 10 to 1500 m are selected and linearly interpolated at each meter of depth, as mentioned in the manuscript. For this demonstration, five random DMQC profiles were selected from the Argo snapshot used in the manuscript (see file `README.md`). To simplify the demo procedures, on this occasion we do not perform exhaustive filtering with these five profiles."
   ]
  },
  {
   "cell_type": "code",
   "execution_count": 8,
   "metadata": {},
   "outputs": [
    {
     "name": "stdout",
     "output_type": "stream",
     "text": [
      "4 interpolated conservative temperature profiles\n"
     ]
    }
   ],
   "source": [
    "profile_files = [\"D5904999_148.nc\", \"D3901116_098.nc\", \"D5904355_088.nc\", \"D2902612_192.nc\", \"D3900386_063.nc\"]\n",
    "\n",
    "files = []\n",
    "pres = np.arange(10, 1501, 1).tolist()\n",
    "ct_profiles = pd.DataFrame({}, columns=pres)\n",
    "\n",
    "for file in profile_files:\n",
    "    df = getProfileData(f\"argo-profiles/{file}\")\n",
    "    # Adding datasets that did pass the filters\n",
    "    if df.shape[0] > 0:\n",
    "        files.append(file)\n",
    "        ct_profiles.loc[len(ct_profiles.index)] = df.ctemp.values\n",
    "\n",
    "ct_profiles[\"file\"] = files\n",
    "print(f\"{ct_profiles.shape[0]} interpolated conservative temperature profiles\")"
   ]
  },
  {
   "cell_type": "markdown",
   "metadata": {},
   "source": [
    "Once the training instances for clustering (profiles) have been obtained, we use K-Means clustering, in this case with 10,000 as the maximum number of iterations and 10 as the number of times the K-means algorithm is executed with different seeds of centroid."
   ]
  },
  {
   "cell_type": "code",
   "execution_count": 9,
   "metadata": {},
   "outputs": [
    {
     "name": "stderr",
     "output_type": "stream",
     "text": [
      "c:\\Users\\USER\\anaconda3\\lib\\site-packages\\sklearn\\cluster\\_kmeans.py:1382: UserWarning: KMeans is known to have a memory leak on Windows with MKL, when there are less chunks than available threads. You can avoid it by setting the environment variable OMP_NUM_THREADS=1.\n",
      "  warnings.warn(\n"
     ]
    },
    {
     "data": {
      "text/html": [
       "<div>\n",
       "<style scoped>\n",
       "    .dataframe tbody tr th:only-of-type {\n",
       "        vertical-align: middle;\n",
       "    }\n",
       "\n",
       "    .dataframe tbody tr th {\n",
       "        vertical-align: top;\n",
       "    }\n",
       "\n",
       "    .dataframe thead th {\n",
       "        text-align: right;\n",
       "    }\n",
       "</style>\n",
       "<table border=\"1\" class=\"dataframe\">\n",
       "  <thead>\n",
       "    <tr style=\"text-align: right;\">\n",
       "      <th></th>\n",
       "      <th>0</th>\n",
       "      <th>1</th>\n",
       "    </tr>\n",
       "  </thead>\n",
       "  <tbody>\n",
       "    <tr>\n",
       "      <th>0</th>\n",
       "      <td>29.393294</td>\n",
       "      <td>10.838796</td>\n",
       "    </tr>\n",
       "    <tr>\n",
       "      <th>1</th>\n",
       "      <td>29.387139</td>\n",
       "      <td>10.837945</td>\n",
       "    </tr>\n",
       "    <tr>\n",
       "      <th>2</th>\n",
       "      <td>29.380972</td>\n",
       "      <td>10.837571</td>\n",
       "    </tr>\n",
       "    <tr>\n",
       "      <th>3</th>\n",
       "      <td>29.374577</td>\n",
       "      <td>10.837261</td>\n",
       "    </tr>\n",
       "    <tr>\n",
       "      <th>4</th>\n",
       "      <td>29.368182</td>\n",
       "      <td>10.837144</td>\n",
       "    </tr>\n",
       "    <tr>\n",
       "      <th>...</th>\n",
       "      <td>...</td>\n",
       "      <td>...</td>\n",
       "    </tr>\n",
       "    <tr>\n",
       "      <th>1486</th>\n",
       "      <td>3.560542</td>\n",
       "      <td>2.681336</td>\n",
       "    </tr>\n",
       "    <tr>\n",
       "      <th>1487</th>\n",
       "      <td>3.555527</td>\n",
       "      <td>2.680447</td>\n",
       "    </tr>\n",
       "    <tr>\n",
       "      <th>1488</th>\n",
       "      <td>3.550461</td>\n",
       "      <td>2.680112</td>\n",
       "    </tr>\n",
       "    <tr>\n",
       "      <th>1489</th>\n",
       "      <td>3.545185</td>\n",
       "      <td>2.679551</td>\n",
       "    </tr>\n",
       "    <tr>\n",
       "      <th>1490</th>\n",
       "      <td>3.539910</td>\n",
       "      <td>2.678722</td>\n",
       "    </tr>\n",
       "  </tbody>\n",
       "</table>\n",
       "<p>1491 rows × 2 columns</p>\n",
       "</div>"
      ],
      "text/plain": [
       "              0          1\n",
       "0     29.393294  10.838796\n",
       "1     29.387139  10.837945\n",
       "2     29.380972  10.837571\n",
       "3     29.374577  10.837261\n",
       "4     29.368182  10.837144\n",
       "...         ...        ...\n",
       "1486   3.560542   2.681336\n",
       "1487   3.555527   2.680447\n",
       "1488   3.550461   2.680112\n",
       "1489   3.545185   2.679551\n",
       "1490   3.539910   2.678722\n",
       "\n",
       "[1491 rows x 2 columns]"
      ]
     },
     "execution_count": 9,
     "metadata": {},
     "output_type": "execute_result"
    }
   ],
   "source": [
    "k = 2 # Could be np.arange(2,51) using a loop\n",
    "\n",
    "kmeanModel = KMeans(n_clusters=k, max_iter=10000, n_init=10, verbose=0)\n",
    "kmeanModel.fit(ct_profiles.values[:,:-1])\n",
    "\n",
    "centroids = pd.DataFrame(kmeanModel.cluster_centers_.T)\n",
    "centroids"
   ]
  },
  {
   "cell_type": "markdown",
   "metadata": {},
   "source": [
    "The table above shows the coordinates of cluster centers. Each cluster is located in a column, as _k_=2, clousters 0 and 1 (0 to _k_-1) were obtained. Rows are the values of the centroids from 10 m to 1500 m at each meter of depth.\n",
    "\n",
    "Now we can assign the corresponding cluster to each of the profiles that we used for training or assign new profiles through the centroids and the use of the Euclidean distance (see `demo2.ipynb`)."
   ]
  },
  {
   "cell_type": "code",
   "execution_count": 10,
   "metadata": {},
   "outputs": [
    {
     "data": {
      "text/html": [
       "<div>\n",
       "<style scoped>\n",
       "    .dataframe tbody tr th:only-of-type {\n",
       "        vertical-align: middle;\n",
       "    }\n",
       "\n",
       "    .dataframe tbody tr th {\n",
       "        vertical-align: top;\n",
       "    }\n",
       "\n",
       "    .dataframe thead th {\n",
       "        text-align: right;\n",
       "    }\n",
       "</style>\n",
       "<table border=\"1\" class=\"dataframe\">\n",
       "  <thead>\n",
       "    <tr style=\"text-align: right;\">\n",
       "      <th></th>\n",
       "      <th>file</th>\n",
       "      <th>2_t</th>\n",
       "    </tr>\n",
       "  </thead>\n",
       "  <tbody>\n",
       "    <tr>\n",
       "      <th>0</th>\n",
       "      <td>D5904999_148.nc</td>\n",
       "      <td>1</td>\n",
       "    </tr>\n",
       "    <tr>\n",
       "      <th>1</th>\n",
       "      <td>D3901116_098.nc</td>\n",
       "      <td>1</td>\n",
       "    </tr>\n",
       "    <tr>\n",
       "      <th>2</th>\n",
       "      <td>D5904355_088.nc</td>\n",
       "      <td>0</td>\n",
       "    </tr>\n",
       "    <tr>\n",
       "      <th>3</th>\n",
       "      <td>D2902612_192.nc</td>\n",
       "      <td>0</td>\n",
       "    </tr>\n",
       "  </tbody>\n",
       "</table>\n",
       "</div>"
      ],
      "text/plain": [
       "              file  2_t\n",
       "0  D5904999_148.nc    1\n",
       "1  D3901116_098.nc    1\n",
       "2  D5904355_088.nc    0\n",
       "3  D2902612_192.nc    0"
      ]
     },
     "execution_count": 10,
     "metadata": {},
     "output_type": "execute_result"
    }
   ],
   "source": [
    "column = f\"{k}_t\"\n",
    "ct_profiles[column] = kmeanModel.labels_\n",
    "ct_profiles[[\"file\",column]]"
   ]
  },
  {
   "cell_type": "markdown",
   "metadata": {},
   "source": [
    "Now you can see your classified profiles on a map (see `demo1.ipynb`) or plot them on a p-T diagram per cluster."
   ]
  },
  {
   "cell_type": "code",
   "execution_count": 11,
   "metadata": {},
   "outputs": [
    {
     "data": {
      "text/plain": [
       "<matplotlib.legend.Legend at 0x154ba74e4f0>"
      ]
     },
     "execution_count": 11,
     "metadata": {},
     "output_type": "execute_result"
    },
    {
     "data": {
      "image/png": "[encoded data removed]",
      "text/plain": [
       "<Figure size 480x480 with 1 Axes>"
      ]
     },
     "metadata": {},
     "output_type": "display_data"
    }
   ],
   "source": [
    "fig = plt.figure(figsize=(4.8, 4.8))\n",
    "ax = fig.add_subplot(111)\n",
    "\n",
    "uniques = ct_profiles[column].unique()\n",
    "cmap = cm.get_cmap('gist_rainbow_r', len(uniques))\n",
    "\n",
    "for k in range(len(uniques)):\n",
    "    _ct_profiles = ct_profiles[ct_profiles[column] == uniques[k]]\n",
    "    for p in range(_ct_profiles.shape[0]):\n",
    "        label = _ct_profiles[column].values[0] if p == 0 else None\n",
    "        ax.scatter(_ct_profiles[pres].values[p], pres, color=cmap(k), label=label)\n",
    "\n",
    "ax.invert_yaxis()\n",
    "ax.set_xlabel(r\"Conservative temperature ($^\\circ$C)\")\n",
    "ax.set_ylabel(r\"Pressure (dbar)\")\n",
    "ax.legend()"
   ]
  }
 ],
 "metadata": {
  "kernelspec": {
   "display_name": "base",
   "language": "python",
   "name": "python3"
  },
  "language_info": {
   "codemirror_mode": {
    "name": "ipython",
    "version": 3
   },
   "file_extension": ".py",
   "mimetype": "text/x-python",
   "name": "python",
   "nbconvert_exporter": "python",
   "pygments_lexer": "ipython3",
   "version": "3.9.16"
  }
 },
 "nbformat": 4,
 "nbformat_minor": 2
}
